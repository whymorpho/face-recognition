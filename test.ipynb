{
 "cells": [
  {
   "cell_type": "code",
   "execution_count": 1,
   "id": "fb374765-83b8-4806-a921-4d79a9a89850",
   "metadata": {},
   "outputs": [],
   "source": [
    "from PIL import Image\n",
    "import requests\n",
    "import urllib.request\n",
    "import face_recognition"
   ]
  },
  {
   "cell_type": "code",
   "execution_count": 2,
   "id": "38480d73-f681-426a-9e53-945927ac6c42",
   "metadata": {},
   "outputs": [],
   "source": [
    "url = 'https://cdn.4spaces.company/misc/085022b801e447faad3f30f05596.jpg'\n",
    "img = urllib.request.urlopen(url)"
   ]
  },
  {
   "cell_type": "code",
   "execution_count": 3,
   "id": "769d45e4-bfe5-436f-82b2-4ca49736ca57",
   "metadata": {},
   "outputs": [],
   "source": [
    "face = face_recognition.load_image_file(img)\n",
    "face_coordinates = face_recognition.face_locations(face)"
   ]
  },
  {
   "cell_type": "code",
   "execution_count": 4,
   "id": "30cc65c3-8886-4d5b-ba85-67cf6878d5f3",
   "metadata": {},
   "outputs": [
    {
     "data": {
      "text/plain": [
       "[(724, 2214, 1682, 1256)]"
      ]
     },
     "execution_count": 4,
     "metadata": {},
     "output_type": "execute_result"
    }
   ],
   "source": [
    "face_coordinates"
   ]
  },
  {
   "cell_type": "code",
   "execution_count": 5,
   "id": "c266a76d-2293-4e4f-8ae1-9d4d6b89d27a",
   "metadata": {},
   "outputs": [],
   "source": [
    "for coodinate in face_coordinates:\n",
    "    y1, x1, y2, x2 = coodinate\n",
    "    face_image = face[y1:y2, x2:x1]\n",
    "    pillow = Image.fromarray(face_image)"
   ]
  },
  {
   "cell_type": "code",
   "execution_count": 6,
   "id": "e237e9fd-1b33-47cd-9566-b20ff6a8eb1f",
   "metadata": {},
   "outputs": [],
   "source": [
    "pillow.show()"
   ]
  },
  {
   "cell_type": "code",
   "execution_count": 7,
   "id": "bda31cae-a335-41bb-a2b2-36bf78c720e5",
   "metadata": {},
   "outputs": [],
   "source": [
    "#pillow.save(..)"
   ]
  }
 ],
 "metadata": {
  "kernelspec": {
   "display_name": "Python 3",
   "language": "python",
   "name": "python3"
  },
  "language_info": {
   "codemirror_mode": {
    "name": "ipython",
    "version": 3
   },
   "file_extension": ".py",
   "mimetype": "text/x-python",
   "name": "python",
   "nbconvert_exporter": "python",
   "pygments_lexer": "ipython3",
   "version": "3.8.8"
  }
 },
 "nbformat": 4,
 "nbformat_minor": 5
}
